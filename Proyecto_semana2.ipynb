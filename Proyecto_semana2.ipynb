{
 "cells": [
  {
   "cell_type": "code",
   "execution_count": 133,
   "id": "614a571b",
   "metadata": {},
   "outputs": [],
   "source": [
    "# Top 5 países. Desde del año 2000. Género, y que tan fatales fueron los accidentes, actividad. "
   ]
  },
  {
   "cell_type": "code",
   "execution_count": 134,
   "id": "b1b85050",
   "metadata": {},
   "outputs": [],
   "source": [
    "import pandas as pd\n",
    "import numpy as np\n",
    "import seaborn\n",
    "import matplotlib.pyplot as plt\n"
   ]
  },
  {
   "cell_type": "code",
   "execution_count": 135,
   "id": "d1b30053",
   "metadata": {},
   "outputs": [],
   "source": [
    "df = pd.read_csv('attacks.csv', encoding='latin1')\n",
    "pd.set_option('display.max_columns', None) #Para que nos muestre todas las columnas"
   ]
  },
  {
   "cell_type": "code",
   "execution_count": 136,
   "id": "d2e376d1",
   "metadata": {},
   "outputs": [],
   "source": [
    "dim_original= df.shape # Guardando las dimensiones originales antes de limpieza"
   ]
  },
  {
   "cell_type": "code",
   "execution_count": 137,
   "id": "16a4a221",
   "metadata": {},
   "outputs": [
    {
     "name": "stdout",
     "output_type": "stream",
     "text": [
      "<class 'pandas.core.frame.DataFrame'>\n",
      "RangeIndex: 25723 entries, 0 to 25722\n",
      "Data columns (total 24 columns):\n",
      " #   Column                  Non-Null Count  Dtype  \n",
      "---  ------                  --------------  -----  \n",
      " 0   Case Number             8702 non-null   object \n",
      " 1   Date                    6302 non-null   object \n",
      " 2   Year                    6300 non-null   float64\n",
      " 3   Type                    6298 non-null   object \n",
      " 4   Country                 6252 non-null   object \n",
      " 5   Area                    5847 non-null   object \n",
      " 6   Location                5762 non-null   object \n",
      " 7   Activity                5758 non-null   object \n",
      " 8   Name                    6092 non-null   object \n",
      " 9   Sex                     5737 non-null   object \n",
      " 10  Age                     3471 non-null   object \n",
      " 11  Injury                  6274 non-null   object \n",
      " 12  Fatal (Y/N)             5763 non-null   object \n",
      " 13  Time                    2948 non-null   object \n",
      " 14  Species                 3464 non-null   object \n",
      " 15  Investigator or Source  6285 non-null   object \n",
      " 16  pdf                     6302 non-null   object \n",
      " 17  href formula            6301 non-null   object \n",
      " 18  href                    6302 non-null   object \n",
      " 19  Case Number.1           6302 non-null   object \n",
      " 20  Case Number.2           6302 non-null   object \n",
      " 21  original order          6309 non-null   float64\n",
      " 22  Unnamed: 22             1 non-null      object \n",
      " 23  Unnamed: 23             2 non-null      object \n",
      "dtypes: float64(2), object(22)\n",
      "memory usage: 4.7+ MB\n"
     ]
    }
   ],
   "source": [
    "df.info() # info del DF\n"
   ]
  },
  {
   "cell_type": "code",
   "execution_count": 138,
   "id": "5cc5e51a",
   "metadata": {},
   "outputs": [
    {
     "data": {
      "text/plain": [
       "Index(['Case Number', 'Date', 'Year', 'Type', 'Country', 'Area', 'Location',\n",
       "       'Activity', 'Name', 'Sex ', 'Age', 'Injury', 'Fatal (Y/N)', 'Time',\n",
       "       'Species ', 'Investigator or Source', 'pdf', 'href formula', 'href',\n",
       "       'Case Number.1', 'Case Number.2', 'original order', 'Unnamed: 22',\n",
       "       'Unnamed: 23'],\n",
       "      dtype='object')"
      ]
     },
     "execution_count": 138,
     "metadata": {},
     "output_type": "execute_result"
    }
   ],
   "source": [
    "df.columns #Columnas"
   ]
  },
  {
   "cell_type": "code",
   "execution_count": 139,
   "id": "e14fad49",
   "metadata": {},
   "outputs": [
    {
     "data": {
      "text/html": [
       "<div>\n",
       "<style scoped>\n",
       "    .dataframe tbody tr th:only-of-type {\n",
       "        vertical-align: middle;\n",
       "    }\n",
       "\n",
       "    .dataframe tbody tr th {\n",
       "        vertical-align: top;\n",
       "    }\n",
       "\n",
       "    .dataframe thead th {\n",
       "        text-align: right;\n",
       "    }\n",
       "</style>\n",
       "<table border=\"1\" class=\"dataframe\">\n",
       "  <thead>\n",
       "    <tr style=\"text-align: right;\">\n",
       "      <th></th>\n",
       "      <th>Case Number</th>\n",
       "      <th>Date</th>\n",
       "      <th>Year</th>\n",
       "      <th>Type</th>\n",
       "      <th>Country</th>\n",
       "      <th>Area</th>\n",
       "      <th>Location</th>\n",
       "      <th>Activity</th>\n",
       "      <th>Name</th>\n",
       "      <th>Sex</th>\n",
       "      <th>Age</th>\n",
       "      <th>Injury</th>\n",
       "      <th>Fatal (Y/N)</th>\n",
       "      <th>Time</th>\n",
       "      <th>Species</th>\n",
       "      <th>Investigator or Source</th>\n",
       "      <th>pdf</th>\n",
       "      <th>href formula</th>\n",
       "      <th>href</th>\n",
       "      <th>Case Number.1</th>\n",
       "      <th>Case Number.2</th>\n",
       "      <th>original order</th>\n",
       "      <th>Unnamed: 22</th>\n",
       "      <th>Unnamed: 23</th>\n",
       "    </tr>\n",
       "  </thead>\n",
       "  <tbody>\n",
       "    <tr>\n",
       "      <th>0</th>\n",
       "      <td>2018.06.25</td>\n",
       "      <td>25-Jun-2018</td>\n",
       "      <td>2018.0</td>\n",
       "      <td>Boating</td>\n",
       "      <td>USA</td>\n",
       "      <td>California</td>\n",
       "      <td>Oceanside, San Diego County</td>\n",
       "      <td>Paddling</td>\n",
       "      <td>Julie Wolfe</td>\n",
       "      <td>F</td>\n",
       "      <td>57</td>\n",
       "      <td>No injury to occupant, outrigger canoe and pad...</td>\n",
       "      <td>N</td>\n",
       "      <td>18h00</td>\n",
       "      <td>White shark</td>\n",
       "      <td>R. Collier, GSAF</td>\n",
       "      <td>2018.06.25-Wolfe.pdf</td>\n",
       "      <td>http://sharkattackfile.net/spreadsheets/pdf_di...</td>\n",
       "      <td>http://sharkattackfile.net/spreadsheets/pdf_di...</td>\n",
       "      <td>2018.06.25</td>\n",
       "      <td>2018.06.25</td>\n",
       "      <td>6303.0</td>\n",
       "      <td>NaN</td>\n",
       "      <td>NaN</td>\n",
       "    </tr>\n",
       "    <tr>\n",
       "      <th>1</th>\n",
       "      <td>2018.06.18</td>\n",
       "      <td>18-Jun-2018</td>\n",
       "      <td>2018.0</td>\n",
       "      <td>Unprovoked</td>\n",
       "      <td>USA</td>\n",
       "      <td>Georgia</td>\n",
       "      <td>St. Simon Island, Glynn County</td>\n",
       "      <td>Standing</td>\n",
       "      <td>Adyson McNeely</td>\n",
       "      <td>F</td>\n",
       "      <td>11</td>\n",
       "      <td>Minor injury to left thigh</td>\n",
       "      <td>N</td>\n",
       "      <td>14h00  -15h00</td>\n",
       "      <td>NaN</td>\n",
       "      <td>K.McMurray, TrackingSharks.com</td>\n",
       "      <td>2018.06.18-McNeely.pdf</td>\n",
       "      <td>http://sharkattackfile.net/spreadsheets/pdf_di...</td>\n",
       "      <td>http://sharkattackfile.net/spreadsheets/pdf_di...</td>\n",
       "      <td>2018.06.18</td>\n",
       "      <td>2018.06.18</td>\n",
       "      <td>6302.0</td>\n",
       "      <td>NaN</td>\n",
       "      <td>NaN</td>\n",
       "    </tr>\n",
       "    <tr>\n",
       "      <th>2</th>\n",
       "      <td>2018.06.09</td>\n",
       "      <td>09-Jun-2018</td>\n",
       "      <td>2018.0</td>\n",
       "      <td>Invalid</td>\n",
       "      <td>USA</td>\n",
       "      <td>Hawaii</td>\n",
       "      <td>Habush, Oahu</td>\n",
       "      <td>Surfing</td>\n",
       "      <td>John Denges</td>\n",
       "      <td>M</td>\n",
       "      <td>48</td>\n",
       "      <td>Injury to left lower leg from surfboard skeg</td>\n",
       "      <td>N</td>\n",
       "      <td>07h45</td>\n",
       "      <td>NaN</td>\n",
       "      <td>K.McMurray, TrackingSharks.com</td>\n",
       "      <td>2018.06.09-Denges.pdf</td>\n",
       "      <td>http://sharkattackfile.net/spreadsheets/pdf_di...</td>\n",
       "      <td>http://sharkattackfile.net/spreadsheets/pdf_di...</td>\n",
       "      <td>2018.06.09</td>\n",
       "      <td>2018.06.09</td>\n",
       "      <td>6301.0</td>\n",
       "      <td>NaN</td>\n",
       "      <td>NaN</td>\n",
       "    </tr>\n",
       "    <tr>\n",
       "      <th>3</th>\n",
       "      <td>2018.06.08</td>\n",
       "      <td>08-Jun-2018</td>\n",
       "      <td>2018.0</td>\n",
       "      <td>Unprovoked</td>\n",
       "      <td>AUSTRALIA</td>\n",
       "      <td>New South Wales</td>\n",
       "      <td>Arrawarra Headland</td>\n",
       "      <td>Surfing</td>\n",
       "      <td>male</td>\n",
       "      <td>M</td>\n",
       "      <td>NaN</td>\n",
       "      <td>Minor injury to lower leg</td>\n",
       "      <td>N</td>\n",
       "      <td>NaN</td>\n",
       "      <td>2 m shark</td>\n",
       "      <td>B. Myatt, GSAF</td>\n",
       "      <td>2018.06.08-Arrawarra.pdf</td>\n",
       "      <td>http://sharkattackfile.net/spreadsheets/pdf_di...</td>\n",
       "      <td>http://sharkattackfile.net/spreadsheets/pdf_di...</td>\n",
       "      <td>2018.06.08</td>\n",
       "      <td>2018.06.08</td>\n",
       "      <td>6300.0</td>\n",
       "      <td>NaN</td>\n",
       "      <td>NaN</td>\n",
       "    </tr>\n",
       "    <tr>\n",
       "      <th>4</th>\n",
       "      <td>2018.06.04</td>\n",
       "      <td>04-Jun-2018</td>\n",
       "      <td>2018.0</td>\n",
       "      <td>Provoked</td>\n",
       "      <td>MEXICO</td>\n",
       "      <td>Colima</td>\n",
       "      <td>La Ticla</td>\n",
       "      <td>Free diving</td>\n",
       "      <td>Gustavo Ramos</td>\n",
       "      <td>M</td>\n",
       "      <td>NaN</td>\n",
       "      <td>Lacerations to leg &amp; hand shark PROVOKED INCIDENT</td>\n",
       "      <td>N</td>\n",
       "      <td>NaN</td>\n",
       "      <td>Tiger shark, 3m</td>\n",
       "      <td>A .Kipper</td>\n",
       "      <td>2018.06.04-Ramos.pdf</td>\n",
       "      <td>http://sharkattackfile.net/spreadsheets/pdf_di...</td>\n",
       "      <td>http://sharkattackfile.net/spreadsheets/pdf_di...</td>\n",
       "      <td>2018.06.04</td>\n",
       "      <td>2018.06.04</td>\n",
       "      <td>6299.0</td>\n",
       "      <td>NaN</td>\n",
       "      <td>NaN</td>\n",
       "    </tr>\n",
       "  </tbody>\n",
       "</table>\n",
       "</div>"
      ],
      "text/plain": [
       "  Case Number         Date    Year        Type    Country             Area  \\\n",
       "0  2018.06.25  25-Jun-2018  2018.0     Boating        USA       California   \n",
       "1  2018.06.18  18-Jun-2018  2018.0  Unprovoked        USA          Georgia   \n",
       "2  2018.06.09  09-Jun-2018  2018.0     Invalid        USA           Hawaii   \n",
       "3  2018.06.08  08-Jun-2018  2018.0  Unprovoked  AUSTRALIA  New South Wales   \n",
       "4  2018.06.04  04-Jun-2018  2018.0    Provoked     MEXICO           Colima   \n",
       "\n",
       "                         Location     Activity             Name Sex   Age  \\\n",
       "0     Oceanside, San Diego County     Paddling      Julie Wolfe    F   57   \n",
       "1  St. Simon Island, Glynn County     Standing  Adyson McNeely     F   11   \n",
       "2                    Habush, Oahu      Surfing      John Denges    M   48   \n",
       "3              Arrawarra Headland      Surfing             male    M  NaN   \n",
       "4                        La Ticla  Free diving   Gustavo Ramos     M  NaN   \n",
       "\n",
       "                                              Injury Fatal (Y/N)  \\\n",
       "0  No injury to occupant, outrigger canoe and pad...           N   \n",
       "1                         Minor injury to left thigh           N   \n",
       "2       Injury to left lower leg from surfboard skeg           N   \n",
       "3                          Minor injury to lower leg           N   \n",
       "4  Lacerations to leg & hand shark PROVOKED INCIDENT           N   \n",
       "\n",
       "            Time         Species           Investigator or Source  \\\n",
       "0          18h00      White shark                R. Collier, GSAF   \n",
       "1  14h00  -15h00              NaN  K.McMurray, TrackingSharks.com   \n",
       "2          07h45              NaN  K.McMurray, TrackingSharks.com   \n",
       "3            NaN        2 m shark                  B. Myatt, GSAF   \n",
       "4            NaN  Tiger shark, 3m                       A .Kipper   \n",
       "\n",
       "                        pdf  \\\n",
       "0      2018.06.25-Wolfe.pdf   \n",
       "1    2018.06.18-McNeely.pdf   \n",
       "2     2018.06.09-Denges.pdf   \n",
       "3  2018.06.08-Arrawarra.pdf   \n",
       "4      2018.06.04-Ramos.pdf   \n",
       "\n",
       "                                        href formula  \\\n",
       "0  http://sharkattackfile.net/spreadsheets/pdf_di...   \n",
       "1  http://sharkattackfile.net/spreadsheets/pdf_di...   \n",
       "2  http://sharkattackfile.net/spreadsheets/pdf_di...   \n",
       "3  http://sharkattackfile.net/spreadsheets/pdf_di...   \n",
       "4  http://sharkattackfile.net/spreadsheets/pdf_di...   \n",
       "\n",
       "                                                href Case Number.1  \\\n",
       "0  http://sharkattackfile.net/spreadsheets/pdf_di...    2018.06.25   \n",
       "1  http://sharkattackfile.net/spreadsheets/pdf_di...    2018.06.18   \n",
       "2  http://sharkattackfile.net/spreadsheets/pdf_di...    2018.06.09   \n",
       "3  http://sharkattackfile.net/spreadsheets/pdf_di...    2018.06.08   \n",
       "4  http://sharkattackfile.net/spreadsheets/pdf_di...    2018.06.04   \n",
       "\n",
       "  Case Number.2  original order Unnamed: 22 Unnamed: 23  \n",
       "0    2018.06.25          6303.0         NaN         NaN  \n",
       "1    2018.06.18          6302.0         NaN         NaN  \n",
       "2    2018.06.09          6301.0         NaN         NaN  \n",
       "3    2018.06.08          6300.0         NaN         NaN  \n",
       "4    2018.06.04          6299.0         NaN         NaN  "
      ]
     },
     "execution_count": 139,
     "metadata": {},
     "output_type": "execute_result"
    }
   ],
   "source": [
    "df.head() #primeras 5 filas"
   ]
  },
  {
   "cell_type": "code",
   "execution_count": 140,
   "id": "8c2995e7",
   "metadata": {},
   "outputs": [
    {
     "data": {
      "text/plain": [
       "Case Number                object\n",
       "Date                       object\n",
       "Year                      float64\n",
       "Type                       object\n",
       "Country                    object\n",
       "Area                       object\n",
       "Location                   object\n",
       "Activity                   object\n",
       "Name                       object\n",
       "Sex                        object\n",
       "Age                        object\n",
       "Injury                     object\n",
       "Fatal (Y/N)                object\n",
       "Time                       object\n",
       "Species                    object\n",
       "Investigator or Source     object\n",
       "pdf                        object\n",
       "href formula               object\n",
       "href                       object\n",
       "Case Number.1              object\n",
       "Case Number.2              object\n",
       "original order            float64\n",
       "Unnamed: 22                object\n",
       "Unnamed: 23                object\n",
       "dtype: object"
      ]
     },
     "execution_count": 140,
     "metadata": {},
     "output_type": "execute_result"
    }
   ],
   "source": [
    "df.dtypes "
   ]
  },
  {
   "cell_type": "code",
   "execution_count": 141,
   "id": "337a1bee",
   "metadata": {},
   "outputs": [
    {
     "name": "stdout",
     "output_type": "stream",
     "text": [
      "<class 'pandas.core.frame.DataFrame'>\n",
      "RangeIndex: 25723 entries, 0 to 25722\n",
      "Data columns (total 24 columns):\n",
      " #   Column                  Non-Null Count  Dtype  \n",
      "---  ------                  --------------  -----  \n",
      " 0   Case Number             8702 non-null   object \n",
      " 1   Date                    6302 non-null   object \n",
      " 2   Year                    6300 non-null   float64\n",
      " 3   Type                    6298 non-null   object \n",
      " 4   Country                 6252 non-null   object \n",
      " 5   Area                    5847 non-null   object \n",
      " 6   Location                5762 non-null   object \n",
      " 7   Activity                5758 non-null   object \n",
      " 8   Name                    6092 non-null   object \n",
      " 9   Sex                     5737 non-null   object \n",
      " 10  Age                     3471 non-null   object \n",
      " 11  Injury                  6274 non-null   object \n",
      " 12  Fatal (Y/N)             5763 non-null   object \n",
      " 13  Time                    2948 non-null   object \n",
      " 14  Species                 3464 non-null   object \n",
      " 15  Investigator or Source  6285 non-null   object \n",
      " 16  pdf                     6302 non-null   object \n",
      " 17  href formula            6301 non-null   object \n",
      " 18  href                    6302 non-null   object \n",
      " 19  Case Number.1           6302 non-null   object \n",
      " 20  Case Number.2           6302 non-null   object \n",
      " 21  original order          6309 non-null   float64\n",
      " 22  Unnamed: 22             1 non-null      object \n",
      " 23  Unnamed: 23             2 non-null      object \n",
      "dtypes: float64(2), object(22)\n",
      "memory usage: 22.8 MB\n"
     ]
    }
   ],
   "source": [
    "df.info(memory_usage='deep') #22.8 mb de memoria "
   ]
  },
  {
   "cell_type": "code",
   "execution_count": 142,
   "id": "c5fbd0b6",
   "metadata": {},
   "outputs": [],
   "source": [
    "nan_cols = df.isna().sum()\n",
    "columns_with_null= (len(nan_cols[nan_cols>0])/len(df.columns)*100)#porcentaje de las columnas que tienen nulos\n",
    "\n"
   ]
  },
  {
   "cell_type": "code",
   "execution_count": 143,
   "id": "6d0d1f2c",
   "metadata": {
    "scrolled": true
   },
   "outputs": [
    {
     "data": {
      "text/plain": [
       "count     3471\n",
       "unique     157\n",
       "top         17\n",
       "freq       154\n",
       "Name: Age, dtype: object"
      ]
     },
     "execution_count": 143,
     "metadata": {},
     "output_type": "execute_result"
    }
   ],
   "source": [
    "df.Age.describe() #la serie de edad no nos da la estadística porque es un objeto"
   ]
  },
  {
   "cell_type": "code",
   "execution_count": 144,
   "id": "44ff87ac",
   "metadata": {
    "scrolled": true
   },
   "outputs": [],
   "source": [
    "df.drop_duplicates(inplace= True) #eliminamos los duplicados"
   ]
  },
  {
   "cell_type": "code",
   "execution_count": 145,
   "id": "f07665b2",
   "metadata": {},
   "outputs": [
    {
     "data": {
      "text/plain": [
       "((6312, 24), (25723, 24))"
      ]
     },
     "execution_count": 145,
     "metadata": {},
     "output_type": "execute_result"
    }
   ],
   "source": [
    "df.shape, dim_original #dimensiones despues de eliminar los duplicados"
   ]
  },
  {
   "cell_type": "code",
   "execution_count": 146,
   "id": "b4adc121",
   "metadata": {},
   "outputs": [],
   "source": [
    "#Eliminamos los espacios en el nombre de las columnas y dejamos todas con la primera letra en mayúscula. \n",
    "new_name_columns= []\n",
    "for i in df.columns:\n",
    "    new_name_columns.append( i.rstrip())\n",
    "   \n",
    "df.columns= new_name_columns\n",
    "\n",
    "new_name_columns= []\n",
    "\n",
    "for i in df.columns: \n",
    "     new_name_columns.append( i.capitalize())\n",
    "\n",
    "df.columns= new_name_columns"
   ]
  },
  {
   "cell_type": "code",
   "execution_count": 147,
   "id": "72cfc771",
   "metadata": {
    "scrolled": true
   },
   "outputs": [
    {
     "data": {
      "text/plain": [
       "Index(['Case number', 'Date', 'Year', 'Type', 'Country', 'Area', 'Location',\n",
       "       'Activity', 'Name', 'Sex', 'Age', 'Injury', 'Fatal (y/n)', 'Time',\n",
       "       'Species', 'Investigator or source', 'Pdf', 'Href formula', 'Href',\n",
       "       'Case number.1', 'Case number.2', 'Original order', 'Unnamed: 22',\n",
       "       'Unnamed: 23'],\n",
       "      dtype='object')"
      ]
     },
     "execution_count": 147,
     "metadata": {},
     "output_type": "execute_result"
    }
   ],
   "source": [
    "df.columns"
   ]
  },
  {
   "cell_type": "code",
   "execution_count": 148,
   "id": "0b8af67b",
   "metadata": {},
   "outputs": [
    {
     "name": "stdout",
     "output_type": "stream",
     "text": [
      "<class 'pandas.core.frame.DataFrame'>\n",
      "Int64Index: 6312 entries, 0 to 25722\n",
      "Data columns (total 24 columns):\n",
      " #   Column                  Non-Null Count  Dtype  \n",
      "---  ------                  --------------  -----  \n",
      " 0   Case number             6310 non-null   object \n",
      " 1   Date                    6302 non-null   object \n",
      " 2   Year                    6300 non-null   float64\n",
      " 3   Type                    6298 non-null   object \n",
      " 4   Country                 6252 non-null   object \n",
      " 5   Area                    5847 non-null   object \n",
      " 6   Location                5762 non-null   object \n",
      " 7   Activity                5758 non-null   object \n",
      " 8   Name                    6092 non-null   object \n",
      " 9   Sex                     5737 non-null   object \n",
      " 10  Age                     3471 non-null   object \n",
      " 11  Injury                  6274 non-null   object \n",
      " 12  Fatal (y/n)             5763 non-null   object \n",
      " 13  Time                    2948 non-null   object \n",
      " 14  Species                 3464 non-null   object \n",
      " 15  Investigator or source  6285 non-null   object \n",
      " 16  Pdf                     6302 non-null   object \n",
      " 17  Href formula            6301 non-null   object \n",
      " 18  Href                    6302 non-null   object \n",
      " 19  Case number.1           6302 non-null   object \n",
      " 20  Case number.2           6302 non-null   object \n",
      " 21  Original order          6309 non-null   float64\n",
      " 22  Unnamed: 22             1 non-null      object \n",
      " 23  Unnamed: 23             2 non-null      object \n",
      "dtypes: float64(2), object(22)\n",
      "memory usage: 1.2+ MB\n"
     ]
    }
   ],
   "source": [
    "df.info()"
   ]
  },
  {
   "cell_type": "code",
   "execution_count": 149,
   "id": "70d2a986",
   "metadata": {},
   "outputs": [],
   "source": [
    "#Eliminamos las filas que tengan el valor 0 en el año. \n",
    "case_0 = df[df['Year']== 0.0].index\n",
    "case_0\n",
    "\n",
    "df.drop(case_0, axis=0, inplace= True)\n",
    "\n"
   ]
  },
  {
   "cell_type": "code",
   "execution_count": 150,
   "id": "bc2ea1c0",
   "metadata": {},
   "outputs": [
    {
     "data": {
      "text/plain": [
       "((6187, 24), (25723, 24))"
      ]
     },
     "execution_count": 150,
     "metadata": {},
     "output_type": "execute_result"
    }
   ],
   "source": [
    "df.shape, dim_original"
   ]
  },
  {
   "cell_type": "code",
   "execution_count": 151,
   "id": "14fe507f",
   "metadata": {},
   "outputs": [
    {
     "data": {
      "text/plain": [
       "12"
      ]
     },
     "execution_count": 151,
     "metadata": {},
     "output_type": "execute_result"
    }
   ],
   "source": [
    "df['Year'].isna().sum()"
   ]
  },
  {
   "cell_type": "code",
   "execution_count": 152,
   "id": "0df085b2",
   "metadata": {},
   "outputs": [],
   "source": [
    "df['Date'] = df['Date'].astype(str) #convertimos la serie de fecha a string para eliminar la palabra reported\n"
   ]
  },
  {
   "cell_type": "code",
   "execution_count": 153,
   "id": "ca6cb8b4",
   "metadata": {},
   "outputs": [],
   "source": [
    "dates= [] #eliminamos la palabra reported\n",
    "for i in df['Date']:\n",
    "    dates.append(i.replace('Reported', ''))\n",
    "    \n",
    "df['Date']= dates"
   ]
  },
  {
   "cell_type": "code",
   "execution_count": 154,
   "id": "9734d87b",
   "metadata": {},
   "outputs": [
    {
     "data": {
      "text/plain": [
       "USA                 36.078943\n",
       "AUSTRALIA           21.562551\n",
       "SOUTH AFRICA         9.313326\n",
       "PAPUA NEW GUINEA     2.120372\n",
       "NEW ZEALAND          2.071440\n",
       "BRAZIL               1.826782\n",
       "BAHAMAS              1.728919\n",
       "MEXICO               1.451639\n",
       "ITALY                1.125428\n",
       "PHILIPPINES          0.994944\n",
       "Name: Country, dtype: float64"
      ]
     },
     "execution_count": 154,
     "metadata": {},
     "output_type": "execute_result"
    }
   ],
   "source": [
    "#porcentaje del total de ataques por país\n",
    "df_percentage= df['Country'].value_counts() / 6131*100\n",
    "\n",
    "\n",
    "\n",
    "df_percentage.head(10)\n",
    "        \n",
    "        \n"
   ]
  },
  {
   "cell_type": "code",
   "execution_count": 155,
   "id": "4c142d93",
   "metadata": {},
   "outputs": [
    {
     "data": {
      "text/plain": [
       "(4693, 24)"
      ]
     },
     "execution_count": 155,
     "metadata": {},
     "output_type": "execute_result"
    }
   ],
   "source": [
    "#Solo el top 3 de paises con más ataques que representa el 66% del total de los ataques\n",
    "\n",
    "no_country = df[(df['Country']!='USA') & (df['Country']!='AUSTRALIA')& (df['Country']!='SOUTH AFRICA') & (df['Country']!='PAPUA NEW GUINEA') & (df['Country']!='NEW ZEALAND') & (df['Country']!='BRAZIL') & (df['Country']!='MEXICO') & (df['Country']!='ITALY') & (df['Country']!='PHILIPPINES')].index\n",
    "no_country\n",
    "df.drop(no_country, axis=0, inplace=True)\n",
    "df.shape\n",
    "\n",
    "\n",
    "\n",
    "\n",
    "\n",
    "\n",
    "        "
   ]
  },
  {
   "cell_type": "code",
   "execution_count": 156,
   "id": "a8717ce4",
   "metadata": {},
   "outputs": [],
   "source": [
    "#convertimos la columna 'Area' a string para hacer un strip method y quitar los espacios de los valores \n",
    "\n",
    "\n",
    "\n",
    "    \n",
    "No_spacios = []\n",
    "df['Area'] = df['Area'].astype(str)\n",
    "for i in df['Area']:\n",
    "    a=(i.strip())\n",
    "    b=(a.replace('  Province',' Province'))\n",
    "    c=(b.replace('KwaZulu-Natal between Port Edward and Port St Johns','KwaZulu-Natal'))\n",
    "    No_spacios.append(c)\n",
    "df['Area'] = No_spacios\n",
    "\n",
    "    \n",
    "\n",
    "    \n",
    "\n"
   ]
  },
  {
   "cell_type": "code",
   "execution_count": 157,
   "id": "9b77344d",
   "metadata": {},
   "outputs": [
    {
     "name": "stdout",
     "output_type": "stream",
     "text": [
      "<class 'pandas.core.frame.DataFrame'>\n",
      "Int64Index: 4693 entries, 0 to 6176\n",
      "Data columns (total 24 columns):\n",
      " #   Column                  Non-Null Count  Dtype  \n",
      "---  ------                  --------------  -----  \n",
      " 0   Case number             4692 non-null   object \n",
      " 1   Date                    4693 non-null   object \n",
      " 2   Year                    4692 non-null   float64\n",
      " 3   Type                    4692 non-null   object \n",
      " 4   Country                 4693 non-null   object \n",
      " 5   Area                    4693 non-null   object \n",
      " 6   Location                4549 non-null   object \n",
      " 7   Activity                4340 non-null   object \n",
      " 8   Name                    4593 non-null   object \n",
      " 9   Sex                     4307 non-null   object \n",
      " 10  Age                     2834 non-null   object \n",
      " 11  Injury                  4678 non-null   object \n",
      " 12  Fatal (y/n)             4278 non-null   object \n",
      " 13  Time                    2500 non-null   object \n",
      " 14  Species                 2771 non-null   object \n",
      " 15  Investigator or source  4682 non-null   object \n",
      " 16  Pdf                     4693 non-null   object \n",
      " 17  Href formula            4692 non-null   object \n",
      " 18  Href                    4693 non-null   object \n",
      " 19  Case number.1           4693 non-null   object \n",
      " 20  Case number.2           4693 non-null   object \n",
      " 21  Original order          4693 non-null   float64\n",
      " 22  Unnamed: 22             1 non-null      object \n",
      " 23  Unnamed: 23             1 non-null      object \n",
      "dtypes: float64(2), object(22)\n",
      "memory usage: 916.6+ KB\n"
     ]
    }
   ],
   "source": [
    "df.info()"
   ]
  },
  {
   "cell_type": "code",
   "execution_count": 158,
   "id": "208dfbef",
   "metadata": {
    "scrolled": true
   },
   "outputs": [],
   "source": [
    "#Nos quedamos con los ataques del siglo 21, eliminamos los del sigo 20.\n",
    "\n",
    "c_20 = df[df['Year']< 2000].index\n",
    "\n",
    "df.drop(c_20, axis=0, inplace= True)\n",
    "\n"
   ]
  },
  {
   "cell_type": "code",
   "execution_count": 159,
   "id": "5c0bcd03",
   "metadata": {},
   "outputs": [],
   "source": [
    "#Creamos una lista vacia llamada contient para ver en que continente estan los paises de nuestro data frame\n",
    "continent=[]\n",
    "for i in df['Country']:\n",
    "    a= i.replace('USA', 'AMERICA')\n",
    "    b= a.replace('AUSTRALIA', 'OCEANIA')\n",
    "    c= b.replace('MEXICO', 'AMERICA')\n",
    "    d= c.replace('SOUTH AFRICA', 'AFRICA')\n",
    "    e= d.replace('BRAZIL', 'SOUTH AMERICA')\n",
    "    f= e.replace('PAPUA NEW GUINEA', 'OCEANIA')\n",
    "    g= f.replace('ITALY', 'EUROPE')\n",
    "    h= g.replace('PHILIPPINES', 'ASIA')\n",
    "    z= h.replace('NEW ZEALAND', 'OCEANIA')\n",
    "    continent.append(z)\n",
    " \n"
   ]
  },
  {
   "cell_type": "code",
   "execution_count": 160,
   "id": "d3d6aeda",
   "metadata": {
    "scrolled": false
   },
   "outputs": [],
   "source": [
    "#renombramos nuestra serie vacia y le llamamos continent, ahí vamos a poner de que contienente fue cada incidente\n",
    "df.rename(columns = {'Unnamed: 22': 'Continent'}, inplace = True)\n",
    "\n"
   ]
  },
  {
   "cell_type": "code",
   "execution_count": 161,
   "id": "b7a47d29",
   "metadata": {},
   "outputs": [],
   "source": [
    "#igualamos\n",
    "df['Continent'] = continent"
   ]
  },
  {
   "cell_type": "code",
   "execution_count": 162,
   "id": "b56ba925",
   "metadata": {
    "scrolled": true
   },
   "outputs": [],
   "source": [
    "#Reemplazamos los nulos por 'Unknown'\n",
    "\n",
    "df['Location'].fillna('Unknown', inplace=True)\n",
    "df['Activity'].fillna('Unknown', inplace=True)\n",
    "df['Name'].fillna('Unknown', inplace=True)\n",
    "df['Sex'].fillna('Unknown', inplace=True)\n",
    "df['Age'].fillna('Unknown', inplace=True)\n",
    "df['Injury'].fillna('Unknown', inplace=True)\n",
    "df['Fatal (y/n)'].fillna('Unknown', inplace=True)\n",
    "df['Time'].fillna('Unknown', inplace=True)\n",
    "df['Species'].fillna('Unknown', inplace=True)\n",
    "df['Investigator or source'].fillna('Unknown', inplace=True)\n"
   ]
  },
  {
   "cell_type": "code",
   "execution_count": 163,
   "id": "7bb89d46",
   "metadata": {},
   "outputs": [],
   "source": [
    "#Eliminamos el único valor nulo que tenemos en year. Lo eliminamos en vez de reemplazarlo porque si no se convertiría en un object.\n",
    "year_drop = df[df['Year'].isna()].index\n",
    "df.drop(year_drop, axis=0, inplace= True)"
   ]
  },
  {
   "cell_type": "code",
   "execution_count": 164,
   "id": "621203fe",
   "metadata": {},
   "outputs": [],
   "source": [
    "df['Year'] = df['Year'].astype(int) # cambiamos la columna 'Year' a integer para que no tenga decimales. "
   ]
  },
  {
   "cell_type": "code",
   "execution_count": 165,
   "id": "a1269124",
   "metadata": {},
   "outputs": [
    {
     "data": {
      "text/plain": [
       "M          1331\n",
       "F           280\n",
       "Unknown      79\n",
       "M             2\n",
       "lli           1\n",
       "Name: Sex, dtype: int64"
      ]
     },
     "execution_count": 165,
     "metadata": {},
     "output_type": "execute_result"
    }
   ],
   "source": [
    "df['Sex'].value_counts()"
   ]
  },
  {
   "cell_type": "code",
   "execution_count": 166,
   "id": "79ef712f",
   "metadata": {},
   "outputs": [],
   "source": [
    "# Hay muchos nombres que en vez de aparecer el nombre de la persona, aparece la palabra male.\n",
    "male = df[df['Name']== 'male'].index\n",
    "\n",
    "df.drop(male, axis=0, inplace= True)"
   ]
  },
  {
   "cell_type": "code",
   "execution_count": 167,
   "id": "7974a1dc",
   "metadata": {},
   "outputs": [],
   "source": [
    "# Limpiamos los valores de la columna de género  para despues visualizar en el gráfico\n",
    "\n",
    "lli = df[df['Sex']== 'lli'].index\n",
    "\n",
    "df.drop(lli, axis=0, inplace= True)\n",
    "\n",
    "M_bad = df[df['Sex']== 'M '].index\n",
    "\n",
    "df.drop(M_bad, axis=0, inplace= True)"
   ]
  },
  {
   "cell_type": "code",
   "execution_count": 168,
   "id": "88f4c29c",
   "metadata": {},
   "outputs": [
    {
     "data": {
      "text/plain": [
       "M          1156\n",
       "F           280\n",
       "Unknown      79\n",
       "Name: Sex, dtype: int64"
      ]
     },
     "execution_count": 168,
     "metadata": {},
     "output_type": "execute_result"
    }
   ],
   "source": [
    "df['Sex'].value_counts()"
   ]
  },
  {
   "cell_type": "code",
   "execution_count": 169,
   "id": "3b583ff8",
   "metadata": {
    "scrolled": true
   },
   "outputs": [
    {
     "data": {
      "image/png": "[encoded data removed]",
      "text/plain": [
       "<Figure size 432x432 with 1 Axes>"
      ]
     },
     "metadata": {},
     "output_type": "display_data"
    }
   ],
   "source": [
    "# graficamos el porcentaje de ataques por género\n",
    "males=  1156 *100 / (1156+280)\n",
    "females= 280 * 100 / (1156+ 280)\n",
    "shares= [males, females]\n",
    "labels= ['Hombre', 'Mujer']\n",
    "\n",
    "fig = plt.figure(figsize = (6, 6))\n",
    "plt.pie(shares,labels=labels)\n",
    "plt.title('Ataques de tiburon por género')\n",
    "colors = seaborn.color_palette('deep')[0:len(labels)]\n",
    "plt.pie(shares, labels = labels, colors = colors, autopct='%.0f%%')\n",
    "plt.show()\n"
   ]
  },
  {
   "cell_type": "code",
   "execution_count": 170,
   "id": "a730eec9",
   "metadata": {},
   "outputs": [
    {
     "data": {
      "text/plain": [
       "N          1300\n",
       "Unknown     107\n",
       "Y           105\n",
       "UNKNOWN       2\n",
       "2017          1\n",
       "Name: Fatal (y/n), dtype: int64"
      ]
     },
     "execution_count": 170,
     "metadata": {},
     "output_type": "execute_result"
    }
   ],
   "source": [
    "df['Fatal (y/n)'].value_counts()"
   ]
  },
  {
   "cell_type": "code",
   "execution_count": null,
   "id": "8e70cd68",
   "metadata": {},
   "outputs": [],
   "source": []
  },
  {
   "cell_type": "code",
   "execution_count": 171,
   "id": "6f350f0d",
   "metadata": {},
   "outputs": [
    {
     "data": {
      "image/png": "[encoded data removed]",
      "text/plain": [
       "<Figure size 432x432 with 1 Axes>"
      ]
     },
     "metadata": {},
     "output_type": "display_data"
    }
   ],
   "source": [
    "# graficamos el porcentaje de fatalidad en los ataques\n",
    "fatal= 105* 100 /(1300+105)\n",
    "no_fatal =1300*100 /(1300+105)\n",
    "shares_fatality = [fatal, no_fatal]\n",
    "labels_fatality=['Fatal', 'Not fatal'] \n",
    "fig2 = plt.figure(figsize = (6, 6))\n",
    "plt.pie(shares_fatality,labels=labels_fatality)\n",
    "plt.title('Fatalidad de los ataques de tiburón')\n",
    "colors = seaborn.color_palette('Paired')[0:len(labels)]\n",
    "plt.pie(shares_fatality, labels = labels_fatality, colors = colors, autopct='%.0f%%')\n",
    "plt.show()\n"
   ]
  },
  {
   "cell_type": "code",
   "execution_count": 172,
   "id": "b59eb513",
   "metadata": {},
   "outputs": [
    {
     "data": {
      "text/plain": [
       "Surfing          522\n",
       "Swimming         205\n",
       "Fishing           68\n",
       "Wading            62\n",
       "Spearfishing      57\n",
       "Unknown           53\n",
       "Snorkeling        42\n",
       "Body boarding     32\n",
       "Standing          30\n",
       "Kayaking          23\n",
       "Name: Activity, dtype: int64"
      ]
     },
     "execution_count": 172,
     "metadata": {},
     "output_type": "execute_result"
    }
   ],
   "source": [
    "df['Activity'].value_counts().head(10)"
   ]
  },
  {
   "cell_type": "code",
   "execution_count": 173,
   "id": "e20f3bb5",
   "metadata": {},
   "outputs": [
    {
     "data": {
      "image/png": "[encoded data removed]",
      "text/plain": [
       "<Figure size 432x432 with 1 Axes>"
      ]
     },
     "metadata": {},
     "output_type": "display_data"
    }
   ],
   "source": [
    "#grafico de los ataques por actividad\n",
    "surfing= 522*100 / ( 1515 + 522)\n",
    "swimming= 205*100 / ( 1515 + 205)\n",
    "fishing= 68*100 / ( 1515 + 68)\n",
    "wading= 62*100 / ( 1515 + 62)\n",
    "spearfishing= 57*100 / ( 1515 + 57)\n",
    "snorkeling= 42*100 / ( 1515 + 42)\n",
    "body_boarding= 32*100 / ( 1515 + 32)\n",
    "standing= 30*100 / ( 1515 + 30)\n",
    "kayaking= 23*100 / ( 1515 + 23)\n",
    "\n",
    "shares_activity = [surfing, swimming, fishing, wading, spearfishing, snorkeling, body_boarding, standing, kayaking]\n",
    "labels_activity=['Surfing', 'Swimming', 'Fishing', 'Wading', 'Spearfishing', 'Snorkeling', 'Body boarding', 'Standing', 'Kayaking'] \n",
    "fig2 = plt.figure(figsize = (6, 6))\n",
    "plt.pie(shares_activity,labels=labels_activity)\n",
    "plt.title('Ataques de tiburón por actividad')\n",
    "colors = seaborn.color_palette('Set2')[0:len(labels)]\n",
    "plt.pie(shares_activity, labels = labels_activity, colors = colors, autopct='%.0f%%')\n",
    "plt.show()\n",
    "\n"
   ]
  },
  {
   "cell_type": "code",
   "execution_count": 174,
   "id": "f66c4730",
   "metadata": {},
   "outputs": [
    {
     "data": {
      "text/plain": [
       "2015    109\n",
       "2014     91\n",
       "2008     91\n",
       "2011     89\n",
       "2013     88\n",
       "2017     88\n",
       "2012     87\n",
       "2007     87\n",
       "2009     86\n",
       "2016     86\n",
       "2005     79\n",
       "2006     77\n",
       "2001     74\n",
       "2000     74\n",
       "2002     72\n",
       "2003     71\n",
       "2004     67\n",
       "2010     65\n",
       "2018     34\n",
       "Name: Year, dtype: int64"
      ]
     },
     "execution_count": 174,
     "metadata": {},
     "output_type": "execute_result"
    }
   ],
   "source": [
    "df['Year'].value_counts()"
   ]
  },
  {
   "cell_type": "code",
   "execution_count": 175,
   "id": "64af3c01",
   "metadata": {},
   "outputs": [
    {
     "data": {
      "image/png": "[encoded data removed]",
      "text/plain": [
       "<Figure size 432x432 with 1 Axes>"
      ]
     },
     "metadata": {},
     "output_type": "display_data"
    }
   ],
   "source": [
    "#grafico de los ataques por año\n",
    "y_2000= 74* 100 / (1515+74)\n",
    "y_2001= 74* 100 / (1515+74)\n",
    "y_2002 = 72* 100 / (1515+72)\n",
    "y_2003 = 71* 100 / (1515+71)\n",
    "y_2004 = 67* 100 / (1515+67)\n",
    "y_2005 = 79* 100 / (1515+79)\n",
    "y_2006 = 77* 100 / (1515+77)\n",
    "y_2007 = 87* 100 / (1515+87)\n",
    "y_2008 = 91* 100 / (1515+91)\n",
    "y_2009 = 86* 100 / (1515+86)\n",
    "y_2010 = 65* 100 / (1515+65)\n",
    "y_2011 = 89* 100 / (1515+89)\n",
    "y_2012 = 87* 100 / (1515+87)\n",
    "y_2013 = 88* 100 / (1515+88)\n",
    "y_2014 = 91* 100 / (1515+91)\n",
    "y_2015 = 109* 100 / (1515+109)\n",
    "y_2016 = 86* 100 / (1515+96)\n",
    "y_2017 = 88* 100 / (1515+88)\n",
    "y_2018 = 34* 100 / (1515+34)\n",
    "\n",
    "shares_year = [y_2000, y_2001, y_2002, y_2003, y_2004, y_2005, y_2006, y_2007, y_2008, y_2009, y_2010, y_2011, y_2012, y_2013, y_2014, y_2015, y_2016, y_2017, y_2018]\n",
    "labels_year=['2000', '2001', '2002', '2003', '2004', '2005', '2006', '2007', '2008', '2009', '2010', '2011', '2012', '2013', '2014', '2015', '2016', '2017', '2018'] \n",
    "fig2 = plt.figure(figsize = (6, 6))\n",
    "plt.pie(shares_year,labels=labels_year)\n",
    "plt.title('Ataques de tiburón por año')\n",
    "colors = seaborn.color_palette('muted')[0:len(labels)]\n",
    "plt.pie(shares_year, labels = labels_year, colors = colors, autopct='%.0f%%')\n",
    "plt.show()\n",
    "\n"
   ]
  },
  {
   "cell_type": "code",
   "execution_count": 176,
   "id": "5c15d85f",
   "metadata": {},
   "outputs": [
    {
     "data": {
      "text/plain": [
       "USA                 890\n",
       "AUSTRALIA           357\n",
       "SOUTH AFRICA        128\n",
       "BRAZIL               54\n",
       "NEW ZEALAND          41\n",
       "MEXICO               25\n",
       "PHILIPPINES          10\n",
       "PAPUA NEW GUINEA      6\n",
       "ITALY                 4\n",
       "Name: Country, dtype: int64"
      ]
     },
     "execution_count": 176,
     "metadata": {},
     "output_type": "execute_result"
    }
   ],
   "source": [
    "df['Country'].value_counts()"
   ]
  },
  {
   "cell_type": "code",
   "execution_count": 181,
   "id": "959597f7",
   "metadata": {},
   "outputs": [
    {
     "data": {
      "image/png": "[encoded data removed]",
      "text/plain": [
       "<Figure size 720x720 with 1 Axes>"
      ]
     },
     "metadata": {},
     "output_type": "display_data"
    }
   ],
   "source": [
    "#grafico de los ataques por país\n",
    "usa= 890*100 /(1515+890)\n",
    "australia= 357*100 /(1515+357)\n",
    "south_africa= 128*100 /(1515+128)\n",
    "brazil= 54*100 /(1515+54)\n",
    "new_zealand= 41*100 /(1515+41)\n",
    "mexico= 25*100 /(1515+25)\n",
    "philippines= 10*100 /(1515+6)\n",
    "\n",
    "\n",
    "shares_country = [usa, australia, south_africa, brazil, new_zealand, mexico, philippines]\n",
    "labels_country=['usa', 'australia', 'south_africa', 'brazil', 'new_zealand', 'mexico', 'philippines'] \n",
    "fig2 = plt.figure(figsize = (10,10))\n",
    "plt.pie(shares_country,labels=labels_country)\n",
    "plt.title('Ataques de tiburon por pais')\n",
    "colors = seaborn.color_palette('pastel')[0:len(labels)]\n",
    "plt.pie(shares_country, labels = labels_country, colors = colors, autopct='%.0f%%')\n",
    "plt.show()"
   ]
  },
  {
   "cell_type": "code",
   "execution_count": 178,
   "id": "0e484f07",
   "metadata": {},
   "outputs": [
    {
     "data": {
      "text/plain": [
       "AMERICA          915\n",
       "OCEANIA          404\n",
       "AFRICA           128\n",
       "SOUTH AMERICA     54\n",
       "ASIA              10\n",
       "EUROPE             4\n",
       "Name: Continent, dtype: int64"
      ]
     },
     "execution_count": 178,
     "metadata": {},
     "output_type": "execute_result"
    }
   ],
   "source": [
    "df['Continent'].value_counts()"
   ]
  },
  {
   "cell_type": "code",
   "execution_count": 182,
   "id": "2277fb51",
   "metadata": {},
   "outputs": [
    {
     "data": {
      "image/png": "[encoded data removed]",
      "text/plain": [
       "<Figure size 720x720 with 1 Axes>"
      ]
     },
     "metadata": {},
     "output_type": "display_data"
    }
   ],
   "source": [
    "#grafico de los ataques por continente\n",
    "america= 915*100 /(1515+915)\n",
    "oceania= 404*100 /(1515+404)\n",
    "africa= 128*100 /(1515+128)\n",
    "south_america= 54*100 /(1515+54)\n",
    "asia= 10*100 /(1515+10)\n",
    "europe= 4*100 /(1515+4)\n",
    "\n",
    "shares_continent = [america, oceania, africa, south_america, asia, europe]\n",
    "labels_continent=['america', 'oceania', 'africa', 'south_america', 'asia', 'europe'] \n",
    "fig2 = plt.figure(figsize = (10, 10))\n",
    "plt.pie(shares_continent,labels=labels_continent)\n",
    "plt.title('Ataques de tiburón por continente')\n",
    "colors = seaborn.color_palette('deep')[0:len(labels)]\n",
    "plt.pie(shares_continent, labels = labels_continent, colors = colors, autopct='%.0f%%')\n",
    "plt.show()"
   ]
  },
  {
   "cell_type": "code",
   "execution_count": 183,
   "id": "f2e2090f",
   "metadata": {},
   "outputs": [],
   "source": [
    "\n",
    "\n",
    "df.to_csv('DataLimpieza.csv', index=True, sep=';')\n",
    "\n"
   ]
  },
  {
   "cell_type": "code",
   "execution_count": null,
   "id": "ae6d9ad9",
   "metadata": {},
   "outputs": [],
   "source": []
  },
  {
   "cell_type": "code",
   "execution_count": null,
   "id": "9087a13f",
   "metadata": {},
   "outputs": [],
   "source": []
  }
 ],
 "metadata": {
  "kernelspec": {
   "display_name": "Python 3 (ipykernel)",
   "language": "python",
   "name": "python3"
  },
  "language_info": {
   "codemirror_mode": {
    "name": "ipython",
    "version": 3
   },
   "file_extension": ".py",
   "mimetype": "text/x-python",
   "name": "python",
   "nbconvert_exporter": "python",
   "pygments_lexer": "ipython3",
   "version": "3.9.12"
  }
 },
 "nbformat": 4,
 "nbformat_minor": 5
}
